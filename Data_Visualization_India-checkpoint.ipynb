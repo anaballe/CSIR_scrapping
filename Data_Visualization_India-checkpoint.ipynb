{
 "cells": [
  {
   "cell_type": "code",
   "execution_count": 4,
   "metadata": {
    "collapsed": true
   },
   "outputs": [],
   "source": [
    "from openpyxl import load_workbook"
   ]
  },
  {
   "cell_type": "code",
   "execution_count": 5,
   "metadata": {
    "collapsed": true
   },
   "outputs": [],
   "source": [
    "filename = '/root/Downloads/India.xlsx'"
   ]
  },
  {
   "cell_type": "code",
   "execution_count": 6,
   "metadata": {
    "collapsed": false
   },
   "outputs": [
    {
     "data": {
      "text/plain": [
       "<openpyxl.workbook.workbook.Workbook at 0x7fcbd281ae80>"
      ]
     },
     "execution_count": 6,
     "metadata": {},
     "output_type": "execute_result"
    }
   ],
   "source": [
    "load_workbook(filename, read_only=False, keep_vba=False, data_only=False, guess_types=False)"
   ]
  },
  {
   "cell_type": "code",
   "execution_count": 8,
   "metadata": {
    "collapsed": false
   },
   "outputs": [
    {
     "ename": "NameError",
     "evalue": "name 'file_workbook' is not defined",
     "output_type": "error",
     "traceback": [
      "\u001b[1;31m---------------------------------------------------------------------------\u001b[0m",
      "\u001b[1;31mNameError\u001b[0m                                 Traceback (most recent call last)",
      "\u001b[1;32m<ipython-input-8-9f267dcd76df>\u001b[0m in \u001b[0;36m<module>\u001b[1;34m()\u001b[0m\n\u001b[1;32m----> 1\u001b[1;33m \u001b[0mwb\u001b[0m \u001b[1;33m=\u001b[0m \u001b[0mload_workbook\u001b[0m\u001b[1;33m(\u001b[0m\u001b[0mfile_workbook\u001b[0m\u001b[1;33m,\u001b[0m \u001b[0mread_only\u001b[0m\u001b[1;33m=\u001b[0m\u001b[1;32mTrue\u001b[0m\u001b[1;33m)\u001b[0m\u001b[1;33m\u001b[0m\u001b[0m\n\u001b[0m",
      "\u001b[1;31mNameError\u001b[0m: name 'file_workbook' is not defined"
     ]
    }
   ],
   "source": [
    "wb = load_workbook(file_workbook, read_only=True)"
   ]
  },
  {
   "cell_type": "code",
   "execution_count": 7,
   "metadata": {
    "collapsed": false
   },
   "outputs": [
    {
     "ename": "NameError",
     "evalue": "name 'wb' is not defined",
     "output_type": "error",
     "traceback": [
      "\u001b[1;31m---------------------------------------------------------------------------\u001b[0m",
      "\u001b[1;31mNameError\u001b[0m                                 Traceback (most recent call last)",
      "\u001b[1;32m<ipython-input-7-d12acadf3498>\u001b[0m in \u001b[0;36m<module>\u001b[1;34m()\u001b[0m\n\u001b[1;32m----> 1\u001b[1;33m \u001b[0mws\u001b[0m \u001b[1;33m=\u001b[0m \u001b[0mwb\u001b[0m\u001b[1;33m.\u001b[0m\u001b[0mget_sheet_by_name\u001b[0m\u001b[1;33m(\u001b[0m\u001b[0msheet_name\u001b[0m\u001b[1;33m)\u001b[0m\u001b[1;33m\u001b[0m\u001b[0m\n\u001b[0m",
      "\u001b[1;31mNameError\u001b[0m: name 'wb' is not defined"
     ]
    }
   ],
   "source": [
    "ws = wb.get_sheet_by_name(sheet_name)"
   ]
  },
  {
   "cell_type": "code",
   "execution_count": 37,
   "metadata": {
    "collapsed": true
   },
   "outputs": [],
   "source": [
    "import xlrd"
   ]
  },
  {
   "cell_type": "code",
   "execution_count": 38,
   "metadata": {
    "collapsed": false
   },
   "outputs": [
    {
     "data": {
      "text/plain": [
       "'PCT filing number'"
      ]
     },
     "execution_count": 38,
     "metadata": {},
     "output_type": "execute_result"
    }
   ],
   "source": [
    "loc = (\"/root/Downloads/India.xlsx\") \n",
    "  \n",
    "# To open Workbook \n",
    "wb = xlrd.open_workbook(loc) \n",
    "sheet = wb.sheet_by_index(0) \n",
    "  \n",
    "# For row 0 and column 0 \n",
    "sheet.cell_value(0, 1) "
   ]
  },
  {
   "cell_type": "code",
   "execution_count": 34,
   "metadata": {
    "collapsed": false
   },
   "outputs": [],
   "source": [
    "for i in range(0,18):\n",
    "    for j in range(0,190):\n",
    "        t = sheet.cell_value(j,i)\n",
    "        k = str(t)\n",
    "        l = len(k)\n",
    "        "
   ]
  },
  {
   "cell_type": "code",
   "execution_count": 40,
   "metadata": {
    "collapsed": false
   },
   "outputs": [],
   "source": [
    "for j in range(1,190):\n",
    "        t = sheet.cell_value(j,1)\n",
    "        k = str(t)\n",
    "        l = len(k)\n",
    "        "
   ]
  },
  {
   "cell_type": "code",
   "execution_count": 41,
   "metadata": {
    "collapsed": false
   },
   "outputs": [
    {
     "name": "stdout",
     "output_type": "stream",
     "text": [
      "190\n"
     ]
    }
   ],
   "source": [
    "print(sheet.nrows) "
   ]
  },
  {
   "cell_type": "code",
   "execution_count": null,
   "metadata": {
    "collapsed": true
   },
   "outputs": [],
   "source": [
    "st = l -1;\n",
    "        while(t[st] != '/'):\n",
    "            --st\n",
    "        st = st + 1  \n",
    "        tt = t[st-l]\n",
    "        print(tt"
   ]
  },
  {
   "cell_type": "code",
   "execution_count": 83,
   "metadata": {
    "collapsed": false
   },
   "outputs": [
    {
     "name": "stdout",
     "output_type": "stream",
     "text": [
      "[0, 0, 0, 0, 0, 0, 0, 0, 0, 0, 0, 0, 0, 0, 0, 0, 0, 0, 0, 0]\n"
     ]
    }
   ],
   "source": [
    "number_of_patents_filed = [0]*20\n",
    "print(number_of_patents_filed)"
   ]
  },
  {
   "cell_type": "code",
   "execution_count": 84,
   "metadata": {
    "collapsed": false
   },
   "outputs": [
    {
     "name": "stdout",
     "output_type": "stream",
     "text": [
      "1999  :  1\n",
      "2000  :  1\n",
      "2001  :  1\n",
      "2002  :  3\n",
      "2003  :  13\n",
      "2004  :  21\n",
      "2005  :  10\n",
      "2006  :  19\n",
      "2007  :  27\n",
      "2008  :  23\n",
      "2009  :  32\n",
      "2010  :  25\n",
      "2011  :  11\n",
      "2012  :  0\n",
      "2013  :  0\n",
      "2014  :  0\n",
      "2015  :  0\n",
      "2016  :  0\n",
      "2017  :  2\n",
      "2018  :  0\n"
     ]
    }
   ],
   "source": [
    "\n",
    "for j in range(1,190):\n",
    "        t = sheet.cell_value(j,1)\n",
    "        k = str(t)\n",
    "        l = len(k)\n",
    "        st = l -1\n",
    "        yy = k.split('/')\n",
    "        #print(yy[2])\n",
    "        rr = int(yy[2])\n",
    "        ss = rr -1999\n",
    "        number_of_patents_filed[ss] = number_of_patents_filed[ss] + 1\n",
    "b = 1999\n",
    "for k in number_of_patents_filed:\n",
    "    print(b,\" : \",k)\n",
    "    b = b + 1"
   ]
  },
  {
   "cell_type": "code",
   "execution_count": 85,
   "metadata": {
    "collapsed": false
   },
   "outputs": [
    {
     "name": "stdout",
     "output_type": "stream",
     "text": [
      "[0, 0, 0, 0, 0, 0, 0, 0, 0, 0, 0, 0, 0, 0, 0, 0, 0, 0, 0, 0]\n"
     ]
    }
   ],
   "source": [
    "number_of_patents_granted = [0]*20\n",
    "print(number_of_patents_granted)"
   ]
  },
  {
   "cell_type": "code",
   "execution_count": 90,
   "metadata": {
    "collapsed": false
   },
   "outputs": [
    {
     "name": "stdout",
     "output_type": "stream",
     "text": [
      "30/06/2017 \n"
     ]
    }
   ],
   "source": [
    "print(sheet.cell_value(1,15))"
   ]
  },
  {
   "cell_type": "code",
   "execution_count": 98,
   "metadata": {
    "collapsed": false
   },
   "outputs": [
    {
     "name": "stdout",
     "output_type": "stream",
     "text": [
      "1999  :  0\n",
      "2000  :  0\n",
      "2001  :  0\n",
      "2002  :  0\n",
      "2003  :  0\n",
      "2004  :  0\n",
      "2005  :  0\n",
      "2006  :  0\n",
      "2007  :  10\n",
      "2008  :  4\n",
      "2009  :  11\n",
      "2010  :  14\n",
      "2011  :  8\n",
      "2012  :  8\n",
      "2013  :  2\n",
      "2014  :  11\n",
      "2015  :  19\n",
      "2016  :  37\n",
      "2017  :  52\n",
      "2018  :  0\n"
     ]
    }
   ],
   "source": [
    "for j in range(1,190):\n",
    "        t = sheet.cell_value(j,15)\n",
    "        k = str(t)\n",
    "        l = len(k)\n",
    "        st = l -1\n",
    "        yy = k.split('/')\n",
    "        #print(yy[2])\n",
    "        if(len(yy) > 1): \n",
    "            rr = int(yy[2])\n",
    "            ss = rr - 1999\n",
    "            number_of_patents_granted[ss] = number_of_patents_granted[ss] + 1\n",
    "b = 1999\n",
    "for k in number_of_patents_granted:\n",
    "    print(b,\" : \",k)\n",
    "    b = b + 1"
   ]
  },
  {
   "cell_type": "code",
   "execution_count": 92,
   "metadata": {
    "collapsed": true
   },
   "outputs": [],
   "source": [
    "number_of_patents_published = [0]*20"
   ]
  },
  {
   "cell_type": "code",
   "execution_count": 93,
   "metadata": {
    "collapsed": false
   },
   "outputs": [
    {
     "name": "stdout",
     "output_type": "stream",
     "text": [
      "[0, 0, 0, 0, 0, 0, 0, 0, 0, 0, 0, 0, 0, 0, 0, 0, 0, 0, 0, 0]\n"
     ]
    }
   ],
   "source": [
    "print(number_of_patents_published)"
   ]
  },
  {
   "cell_type": "code",
   "execution_count": 94,
   "metadata": {
    "collapsed": false
   },
   "outputs": [
    {
     "name": "stdout",
     "output_type": "stream",
     "text": [
      "1999  :  0\n",
      "2000  :  0\n",
      "2001  :  0\n",
      "2002  :  0\n",
      "2003  :  1\n",
      "2004  :  0\n",
      "2005  :  4\n",
      "2006  :  1\n",
      "2007  :  13\n",
      "2008  :  10\n",
      "2009  :  16\n",
      "2010  :  18\n",
      "2011  :  11\n",
      "2012  :  5\n",
      "2013  :  3\n",
      "2014  :  0\n",
      "2015  :  0\n",
      "2016  :  0\n",
      "2017  :  0\n",
      "2018  :  0\n"
     ]
    }
   ],
   "source": [
    "for j in range(1,190):\n",
    "        t = sheet.cell_value(j,16)\n",
    "        k = str(t)\n",
    "        l = len(k)\n",
    "        st = l -1\n",
    "        yy = k.split('/')\n",
    "        #print(yy[2])\n",
    "        if(len(yy) > 1): \n",
    "            rr = int(yy[2])\n",
    "            ss = rr - 1999\n",
    "            number_of_patents_published[ss] = number_of_patents_published[ss] + 1\n",
    "b = 1999\n",
    "for k in number_of_patents_published:\n",
    "    print(b,\" : \",k)\n",
    "    b = b + 1"
   ]
  },
  {
   "cell_type": "code",
   "execution_count": 103,
   "metadata": {
    "collapsed": false
   },
   "outputs": [
    {
     "name": "stdout",
     "output_type": "stream",
     "text": [
      "[0, 0, 0, 0, 0, 0, 0, 0, 0, 0, 0, 0, 0, 0, 0, 0, 0, 0, 0, 0]\n"
     ]
    }
   ],
   "source": [
    "\n",
    "number_of_Patents_granted_Y = [0]*20\n",
    "print(number_of_Patents_granted_Y)"
   ]
  },
  {
   "cell_type": "code",
   "execution_count": 104,
   "metadata": {
    "collapsed": false
   },
   "outputs": [
    {
     "name": "stdout",
     "output_type": "stream",
     "text": [
      "1999  :  0\n",
      "2000  :  0\n",
      "2001  :  0\n",
      "2002  :  0\n",
      "2003  :  0\n",
      "2004  :  0\n",
      "2005  :  0\n",
      "2006  :  0\n",
      "2007  :  2\n",
      "2008  :  1\n",
      "2009  :  5\n",
      "2010  :  5\n",
      "2011  :  3\n",
      "2012  :  4\n",
      "2013  :  1\n",
      "2014  :  5\n",
      "2015  :  7\n",
      "2016  :  17\n",
      "2017  :  22\n",
      "2018  :  0\n"
     ]
    }
   ],
   "source": [
    "for j in range(1,190):\n",
    "        t = sheet.cell_value(j,15)\n",
    "        year = str(sheet.cell_value(j,14))\n",
    "        k = str(t)\n",
    "        l = len(k)\n",
    "        st = l -1\n",
    "        yy = k.split('/')\n",
    "        #print(yy[2])\n",
    "        if(len(yy) > 1): \n",
    "            rr = int(yy[2])\n",
    "            ss = rr - 1999\n",
    "            if(year == \"Y\"):\n",
    "                number_of_Patents_granted_Y[ss] = number_of_Patents_granted_Y[ss] + 1\n",
    "b = 1999\n",
    "for k in number_of_Patents_granted_Y:\n",
    "    print(b,\" : \",k)\n",
    "    b = b + 1"
   ]
  },
  {
   "cell_type": "code",
   "execution_count": 105,
   "metadata": {
    "collapsed": false
   },
   "outputs": [
    {
     "name": "stdout",
     "output_type": "stream",
     "text": [
      "[0, 0, 0, 0, 0, 0, 0, 0, 0, 0, 0, 0, 0, 0, 0, 0, 0, 0, 0, 0]\n"
     ]
    }
   ],
   "source": [
    "number_of_Patents_granted_N = [0]*20\n",
    "print(number_of_Patents_granted_N)"
   ]
  },
  {
   "cell_type": "code",
   "execution_count": 106,
   "metadata": {
    "collapsed": false
   },
   "outputs": [
    {
     "name": "stdout",
     "output_type": "stream",
     "text": [
      "1999  :  0\n",
      "2000  :  0\n",
      "2001  :  0\n",
      "2002  :  0\n",
      "2003  :  0\n",
      "2004  :  0\n",
      "2005  :  0\n",
      "2006  :  0\n",
      "2007  :  3\n",
      "2008  :  1\n",
      "2009  :  0\n",
      "2010  :  2\n",
      "2011  :  1\n",
      "2012  :  0\n",
      "2013  :  0\n",
      "2014  :  0\n",
      "2015  :  2\n",
      "2016  :  1\n",
      "2017  :  3\n",
      "2018  :  0\n"
     ]
    }
   ],
   "source": [
    "for j in range(1,190):\n",
    "        t = sheet.cell_value(j,15)\n",
    "        year = str(sheet.cell_value(j,14))\n",
    "        k = str(t)\n",
    "        l = len(k)\n",
    "        st = l -1\n",
    "        yy = k.split('/')\n",
    "        #print(yy[2])\n",
    "        if(len(yy) > 1): \n",
    "            rr = int(yy[2])\n",
    "            ss = rr - 1999\n",
    "            if(year == \"N\"):\n",
    "                number_of_Patents_granted_N[ss] = number_of_Patents_granted_N[ss] + 1\n",
    "b = 1999\n",
    "for k in number_of_Patents_granted_N:\n",
    "    print(b,\" : \",k)\n",
    "    b = b + 1"
   ]
  },
  {
   "cell_type": "code",
   "execution_count": 107,
   "metadata": {
    "collapsed": false
   },
   "outputs": [
    {
     "name": "stdout",
     "output_type": "stream",
     "text": [
      "[0, 0, 0, 0, 0, 0, 0, 0, 0, 0, 0, 0, 0, 0, 0, 0, 0, 0, 0, 0]\n"
     ]
    }
   ],
   "source": [
    "number_of_patents_granted_to_Company = [0]*20\n",
    "print(number_of_patents_granted_to_Company)"
   ]
  },
  {
   "cell_type": "code",
   "execution_count": 113,
   "metadata": {
    "collapsed": false
   },
   "outputs": [
    {
     "name": "stdout",
     "output_type": "stream",
     "text": [
      "1999  :  0\n",
      "2000  :  0\n",
      "2001  :  0\n",
      "2002  :  0\n",
      "2003  :  0\n",
      "2004  :  0\n",
      "2005  :  0\n",
      "2006  :  0\n",
      "2007  :  2\n",
      "2008  :  0\n",
      "2009  :  2\n",
      "2010  :  6\n",
      "2011  :  0\n",
      "2012  :  0\n",
      "2013  :  2\n",
      "2014  :  6\n",
      "2015  :  0\n",
      "2016  :  14\n",
      "2017  :  24\n",
      "2018  :  0\n"
     ]
    }
   ],
   "source": [
    "for j in range(1,190):\n",
    "        t = sheet.cell_value(j,15)\n",
    "        owner = str(sheet.cell_value(j,6))\n",
    "        #print(owner)\n",
    "        k = str(t)\n",
    "        l = len(k)\n",
    "        st = l -1\n",
    "        yy = k.split('/')\n",
    "        #print(yy[2])\n",
    "        if(len(yy) > 1): \n",
    "            rr = int(yy[2])\n",
    "            ss = rr - 1999\n",
    "            if(owner == \"Company\"):\n",
    "                number_of_patents_granted_to_Company[ss] = number_of_patents_granted_to_Company[ss] + 1\n",
    "b = 1999\n",
    "for k in number_of_patents_granted_to_Company:\n",
    "    print(b,\" : \",k)\n",
    "    b = b + 1"
   ]
  },
  {
   "cell_type": "code",
   "execution_count": 114,
   "metadata": {
    "collapsed": false
   },
   "outputs": [
    {
     "name": "stdout",
     "output_type": "stream",
     "text": [
      "[0, 0, 0, 0, 0, 0, 0, 0, 0, 0, 0, 0, 0, 0, 0, 0, 0, 0, 0, 0]\n"
     ]
    }
   ],
   "source": [
    "number_of_patents_granted_to_Individual = [0]*20\n",
    "print(number_of_patents_granted_to_Individual)"
   ]
  },
  {
   "cell_type": "code",
   "execution_count": 119,
   "metadata": {
    "collapsed": false
   },
   "outputs": [
    {
     "name": "stdout",
     "output_type": "stream",
     "text": [
      "1999  :  0\n",
      "2000  :  0\n",
      "2001  :  0\n",
      "2002  :  0\n",
      "2003  :  0\n",
      "2004  :  0\n",
      "2005  :  0\n",
      "2006  :  0\n",
      "2007  :  8\n",
      "2008  :  2\n",
      "2009  :  0\n",
      "2010  :  4\n",
      "2011  :  2\n",
      "2012  :  0\n",
      "2013  :  0\n",
      "2014  :  0\n",
      "2015  :  8\n",
      "2016  :  4\n",
      "2017  :  6\n",
      "2018  :  0\n"
     ]
    }
   ],
   "source": [
    "for j in range(1,190):\n",
    "        t = sheet.cell_value(j,15)\n",
    "        owner = str(sheet.cell_value(j,6))\n",
    "        #print(owner)\n",
    "        k = str(t)\n",
    "        l = len(k)\n",
    "        st = l -1\n",
    "        yy = k.split('/')\n",
    "        #print(yy[2])\n",
    "        if(len(yy) > 1): \n",
    "            rr = int(yy[2])\n",
    "            ss = rr - 1999\n",
    "            if(owner == \"Individual\"):\n",
    "                number_of_patents_granted_to_Individual[ss] = number_of_patents_granted_to_Individual[ss] + 1\n",
    "b = 1999\n",
    "for k in number_of_patents_granted_to_Individual:\n",
    "    print(b,\" : \",k)\n",
    "    b = b + 1"
   ]
  },
  {
   "cell_type": "code",
   "execution_count": 120,
   "metadata": {
    "collapsed": false
   },
   "outputs": [
    {
     "name": "stdout",
     "output_type": "stream",
     "text": [
      "[0, 0, 0, 0, 0, 0, 0, 0, 0, 0, 0, 0, 0, 0, 0, 0, 0, 0, 0, 0]\n"
     ]
    }
   ],
   "source": [
    "number_of_patents_granted_to_Research_Organisation = [0]*20\n",
    "print(number_of_patents_granted_to_Research_Organisation)"
   ]
  },
  {
   "cell_type": "code",
   "execution_count": 123,
   "metadata": {
    "collapsed": false
   },
   "outputs": [
    {
     "name": "stdout",
     "output_type": "stream",
     "text": [
      "1999  :  0\n",
      "2000  :  0\n",
      "2001  :  0\n",
      "2002  :  0\n",
      "2003  :  0\n",
      "2004  :  0\n",
      "2005  :  0\n",
      "2006  :  0\n",
      "2007  :  0\n",
      "2008  :  0\n",
      "2009  :  0\n",
      "2010  :  1\n",
      "2011  :  0\n",
      "2012  :  0\n",
      "2013  :  0\n",
      "2014  :  2\n",
      "2015  :  1\n",
      "2016  :  7\n",
      "2017  :  2\n",
      "2018  :  0\n"
     ]
    }
   ],
   "source": [
    "for j in range(1,190):\n",
    "        t = sheet.cell_value(j,15)\n",
    "        owner = str(sheet.cell_value(j,6))\n",
    "        #print(owner)\n",
    "        k = str(t)\n",
    "        l = len(k)\n",
    "        st = l -1\n",
    "        yy = k.split('/')\n",
    "        #print(yy[2])\n",
    "        if(len(yy) > 1): \n",
    "            rr = int(yy[2])\n",
    "            ss = rr - 1999\n",
    "            if(owner == \"Research organization\"):\n",
    "                number_of_patents_granted_to_Research_Organisation[ss] = number_of_patents_granted_to_Research_Organisation[ss] + 1\n",
    "b = 1999\n",
    "for k in number_of_patents_granted_to_Research_Organisation:\n",
    "    print(b,\" : \",k)\n",
    "    b = b + 1"
   ]
  },
  {
   "cell_type": "code",
   "execution_count": 128,
   "metadata": {
    "collapsed": false
   },
   "outputs": [
    {
     "name": "stdout",
     "output_type": "stream",
     "text": [
      "Year,Number of Patents Filed,Number of Patents Granted,Number of Patents Published,Number of Patents Granted Y Status,Number of Patents Granted N Status,Number of Patents Granted to Company,Number of Patents Granted to Individual,Number of Patents Granted to Research Organisation\n",
      "1999 , 1 , 0 , 0 , 0 , 0 , 0 , 0 , 0\n",
      "2000 , 1 , 0 , 0 , 0 , 0 , 0 , 0 , 0\n",
      "2001 , 3 , 0 , 0 , 0 , 0 , 0 , 0 , 0\n",
      "2002 , 13 , 0 , 1 , 0 , 0 , 0 , 0 , 0\n",
      "2003 , 21 , 0 , 0 , 0 , 0 , 0 , 0 , 0\n",
      "2004 , 10 , 0 , 4 , 0 , 0 , 0 , 0 , 0\n",
      "2005 , 19 , 0 , 1 , 0 , 0 , 0 , 0 , 0\n",
      "2006 , 27 , 10 , 13 , 2 , 3 , 2 , 8 , 0\n",
      "2007 , 23 , 4 , 10 , 1 , 1 , 0 , 2 , 0\n",
      "2008 , 32 , 11 , 16 , 5 , 0 , 2 , 0 , 0\n",
      "2009 , 25 , 14 , 18 , 5 , 2 , 6 , 4 , 1\n",
      "2010 , 11 , 8 , 11 , 3 , 1 , 0 , 2 , 0\n",
      "2011 , 0 , 8 , 5 , 4 , 0 , 0 , 0 , 0\n",
      "2012 , 0 , 2 , 3 , 1 , 0 , 2 , 0 , 0\n",
      "2013 , 0 , 11 , 0 , 5 , 0 , 6 , 0 , 2\n",
      "2014 , 0 , 19 , 0 , 7 , 2 , 0 , 8 , 1\n",
      "2015 , 0 , 37 , 0 , 17 , 1 , 14 , 4 , 7\n",
      "2016 , 2 , 52 , 0 , 22 , 3 , 24 , 6 , 2\n",
      "2017 , 0 , 0 , 0 , 0 , 0 , 0 , 0 , 0\n"
     ]
    }
   ],
   "source": [
    "print(\"Year,Number of Patents Filed,Number of Patents Granted,Number of Patents Published,Number of Patents Granted Y Status,Number of Patents Granted N Status,Number of Patents Granted to Company,Number of Patents Granted to Individual,Number of Patents Granted to Research Organisation\")\n",
    "b = 1999\n",
    "for i in range(1,20):\n",
    "    print(b,\",\",number_of_patents_filed[i],\",\",number_of_patents_granted[i],\",\",number_of_patents_published[i],\",\",number_of_Patents_granted_Y[i],\",\",number_of_Patents_granted_N[i],\",\",number_of_patents_granted_to_Company[i],\",\",number_of_patents_granted_to_Individual[i],\",\",number_of_patents_granted_to_Research_Organisation[i])\n",
    "    b = b + 1"
   ]
  },
  {
   "cell_type": "code",
   "execution_count": 129,
   "metadata": {
    "collapsed": true
   },
   "outputs": [],
   "source": [
    "maxi = 0\n",
    "for j in range(1,190):\n",
    "        t = sheet.cell_value(j,15)\n",
    "        owner = str(sheet.cell_value(j,6))\n",
    "        #print(owner)\n",
    "        k = str(t)\n",
    "        l = len(k)\n",
    "        st = l -1\n",
    "        yy = k.split('/')\n",
    "        #print(yy[2])\n",
    "        if(len(yy) > 1): \n",
    "            xx = int(yy[2])\n",
    "            if(maxi < xx):\n",
    "                maxi = xx"
   ]
  },
  {
   "cell_type": "code",
   "execution_count": 131,
   "metadata": {
    "collapsed": false
   },
   "outputs": [
    {
     "data": {
      "text/plain": [
       "2017"
      ]
     },
     "execution_count": 131,
     "metadata": {},
     "output_type": "execute_result"
    }
   ],
   "source": [
    "maxi"
   ]
  },
  {
   "cell_type": "code",
   "execution_count": null,
   "metadata": {
    "collapsed": true
   },
   "outputs": [],
   "source": []
  }
 ],
 "metadata": {
  "kernelspec": {
   "display_name": "Python 3",
   "language": "python",
   "name": "python3"
  },
  "language_info": {
   "codemirror_mode": {
    "name": "ipython",
    "version": 3
   },
   "file_extension": ".py",
   "mimetype": "text/x-python",
   "name": "python",
   "nbconvert_exporter": "python",
   "pygments_lexer": "ipython3",
   "version": "3.5.1"
  }
 },
 "nbformat": 4,
 "nbformat_minor": 0
}
